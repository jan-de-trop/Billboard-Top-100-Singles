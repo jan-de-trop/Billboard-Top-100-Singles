{
  "nbformat": 4,
  "nbformat_minor": 0,
  "metadata": {
    "colab": {
      "name": "Data Scraping.ipynb",
      "provenance": [],
      "authorship_tag": "ABX9TyNHDKKsrmDWI5Zim6B1/PNW",
      "include_colab_link": true
    },
    "kernelspec": {
      "name": "python3",
      "display_name": "Python 3"
    }
  },
  "cells": [
    {
      "cell_type": "markdown",
      "metadata": {
        "id": "view-in-github",
        "colab_type": "text"
      },
      "source": [
        "<a href=\"https://colab.research.google.com/github/jan-de-trop/Billboard-Top-100-Singles/blob/main/Data_Scraping.ipynb\" target=\"_parent\"><img src=\"https://colab.research.google.com/assets/colab-badge.svg\" alt=\"Open In Colab\"/></a>"
      ]
    },
    {
      "cell_type": "markdown",
      "metadata": {
        "id": "nEH6d1c-gBxq"
      },
      "source": [
        "## Importing the Libraries"
      ]
    },
    {
      "cell_type": "code",
      "metadata": {
        "id": "_Zzkudt2gJ32"
      },
      "source": [
        "#Import libraries\r\n",
        "%matplotlib inline\r\n",
        "import numpy as np\r\n",
        "import matplotlib.pyplot as plt\r\n",
        "import pandas as pd\r\n",
        "import time\r\n",
        "import json\r\n",
        "import re\r\n",
        "import requests"
      ],
      "execution_count": 1,
      "outputs": []
    },
    {
      "cell_type": "markdown",
      "metadata": {
        "id": "ImBvw9uDgPgQ"
      },
      "source": [
        "## Billboard Top 100 Singles Scraping and Parsing"
      ]
    },
    {
      "cell_type": "code",
      "metadata": {
        "id": "F74tIVfbgMVV"
      },
      "source": [
        "#Import Beautiful Soup\r\n",
        "from bs4 import BeautifulSoup"
      ],
      "execution_count": 2,
      "outputs": []
    },
    {
      "cell_type": "markdown",
      "metadata": {
        "id": "xvB4pUpZg6rX"
      },
      "source": [
        "We're scraping [Wikipedia](http://en.wikipedia.org/wiki/Billboard_Year-End_Hot_100_singles_of_) to extract the Billboard top 100 singles and their rankings. \r\n",
        "\r\n",
        "To do this, create a list of dictionaries, 100 of them to be precise, with the following entries: {'url': '/wiki/Sugarloaf_(band)', 'ranking': 30, 'band_singer': 'Sugarloaf', 'title': 'Green-Eyed Lady'}.\r\n",
        "\r\n",
        "Here, url is the link for the singer or band, ranking is the ranking of the song, band_singer is the name of the artist(s) and title is the title of the song.\r\n",
        "\r\n",
        "The text from the requests are stored in a dictionary. This dictionary as its keys the years (as integers from 1992 to 2020), and as values corresponding to these keys the text of the page being fetched."
      ]
    },
    {
      "cell_type": "code",
      "metadata": {
        "id": "bw2yN_Sjg1I-"
      },
      "source": [
        "years=range(1992, 2021)\r\n",
        "yearstext={}\r\n",
        "for y in years:\r\n",
        "    yreq=requests.get(\"http://en.wikipedia.org/wiki/Billboard_Year-End_Hot_100_singles_of_%i\" % y)\r\n",
        "    yearstext[y]=yreq.text\r\n",
        "    time.sleep(1)"
      ],
      "execution_count": 3,
      "outputs": []
    },
    {
      "cell_type": "markdown",
      "metadata": {
        "id": "E8eBCqS1iblM"
      },
      "source": [
        "### Parsing the data"
      ]
    },
    {
      "cell_type": "code",
      "metadata": {
        "id": "ktGQ-EA4iH6Z"
      },
      "source": [
        "\"\"\"\r\n",
        "Function\r\n",
        "--------\r\n",
        "parse_year\r\n",
        "\r\n",
        "Inputs\r\n",
        "------\r\n",
        "year: the year we want the singles for\r\n",
        "ytextdixt: a dictionary with keys as integer years and values the downloaded web pages \r\n",
        "    from wikipedia for that year.\r\n",
        "   \r\n",
        "Returns\r\n",
        "-------\r\n",
        "\r\n",
        "a list of dictionaries, each of which corresponds to a single and has the\r\n",
        "following data:\r\n",
        "\r\n",
        "Eg:\r\n",
        "\r\n",
        "{'band_singer': ['Brandy', 'Monica'],\r\n",
        "  'ranking': 2,\r\n",
        "  'song': ['The Boy Is Mine'],\r\n",
        "  'songurl': ['/wiki/The_Boy_Is_Mine_(song)'],\r\n",
        "  'titletext': '\" The Boy Is Mine \"',\r\n",
        "  'url': ['/wiki/Brandy_Norwood', '/wiki/Monica_(entertainer)']}\r\n",
        "  \r\n",
        "A dictionary with the following data:\r\n",
        "    band_singer: a list of bands/singers who made this single\r\n",
        "    song: a list of the titles of songs on this single\r\n",
        "    songurl: a list of the same size as song which has urls for the songs on the single \r\n",
        "        (see point 3 above)\r\n",
        "    ranking: ranking of the single\r\n",
        "    titletext: the contents of the table cell\r\n",
        "    band_singer: a list of bands or singers on this single\r\n",
        "    url: a list of wikipedia singer/band urls on this single: only put in the part \r\n",
        "        of the url from /wiki onwards\r\n",
        "    \r\n",
        "\"\"\"\r\n",
        "\r\n",
        "fields = [\"ranking\", \"song\", \"songurl\", \"titletext\", \"band_singer\", \"url\"]\r\n",
        "\r\n",
        "def get_cols(row):\r\n",
        "    return row.find_all(\"th\") + row.find_all(\"td\") \r\n",
        "\r\n",
        "def break_a(col):\r\n",
        "    #Finds the a tag\r\n",
        "    return list(map(list, zip(*[(a.get(\"title\").strip('\"'), a.get(\"href\")) for a in col.find_all(\"a\")]) )) or [[col.get_text().strip('\"')], [None]]\r\n",
        "    \r\n",
        "def parse_cols(cols):\r\n",
        "    #Ranking, song & songurl, titletext(with \"), band singer & band URL\r\n",
        "    return [int(cols[0].get_text())] + break_a(cols[1]) + [cols[1].get_text()] + break_a(cols[2])\r\n",
        "\r\n",
        "def create_dict(cols):\r\n",
        "    return dict(zip(fields, cols))\r\n",
        "\r\n",
        "# Parser function.\r\n",
        "def parse_year(year, yearstext):\r\n",
        "    soup = BeautifulSoup(yearstext[year], 'html.parser')\r\n",
        "    rows = soup.find(\"table\", attrs={\"class\": \"wikitable\"}).find_all(\"tr\")[1:]\r\n",
        "    return [create_dict(parse_cols(get_cols(row))) for row in rows]"
      ],
      "execution_count": 4,
      "outputs": []
    },
    {
      "cell_type": "code",
      "metadata": {
        "id": "q31orK6ikK6o"
      },
      "source": [
        "yearinfo = {y: parse_year(y, yearstext) for y in years}"
      ],
      "execution_count": 5,
      "outputs": []
    },
    {
      "cell_type": "markdown",
      "metadata": {
        "id": "KdRu29EhkVc7"
      },
      "source": [
        "We'll store this in a json file so we don't have to run it every time."
      ]
    },
    {
      "cell_type": "code",
      "metadata": {
        "colab": {
          "base_uri": "https://localhost:8080/"
        },
        "id": "DpkolsnvkyR5",
        "outputId": "ef6d3e76-8eba-4c8d-bfb0-ce31021faeb9"
      },
      "source": [
        "from google.colab import drive\r\n",
        "drive.mount('/content/gdrive')"
      ],
      "execution_count": 9,
      "outputs": [
        {
          "output_type": "stream",
          "text": [
            "Mounted at /content/gdrive\n"
          ],
          "name": "stdout"
        }
      ]
    },
    {
      "cell_type": "code",
      "metadata": {
        "id": "scXsuH1FkOxB"
      },
      "source": [
        "fd = open(\"/content/gdrive/MyDrive/yearinfo.json\",\"w\")\r\n",
        "json.dump(yearinfo, fd)\r\n",
        "fd.close()\r\n",
        "del yearinfo"
      ],
      "execution_count": 10,
      "outputs": []
    },
    {
      "cell_type": "code",
      "metadata": {
        "id": "G-QqAsPWkjy_"
      },
      "source": [
        "#Loading the dictionary back to the same variable\r\n",
        "with open(\"/content/gdrive/MyDrive/yearinfo.json\", \"r\") as fd:\r\n",
        "    yearinfo = json.load(fd)"
      ],
      "execution_count": 11,
      "outputs": []
    },
    {
      "cell_type": "markdown",
      "metadata": {
        "id": "-i51HdSDlQmS"
      },
      "source": [
        "## Constructing a Dataframe"
      ]
    },
    {
      "cell_type": "code",
      "metadata": {
        "colab": {
          "base_uri": "https://localhost:8080/",
          "height": 343
        },
        "id": "8kbYLPtjkneE",
        "outputId": "3b0eda4f-33f3-4b65-9d88-bee04cd1590a"
      },
      "source": [
        "yeardict={}\r\n",
        "for y in yearinfo.keys():\r\n",
        "    yearlist=yearinfo[y]\r\n",
        "    yearlist2=[]\r\n",
        "    for idict in yearlist:\r\n",
        "        singers=idict['band_singer']\r\n",
        "        for i,s in enumerate(singers):\r\n",
        "            songs=idict['song']\r\n",
        "            for j,so in enumerate(songs):#now inside each singer song combination\r\n",
        "                nd={}\r\n",
        "                nd['band_singer']=s\r\n",
        "                nd['url']=idict['url'][i]\r\n",
        "                nd['song']=so\r\n",
        "                nd['songurl']=idict['songurl'][j]\r\n",
        "                nd['ranking']=idict['ranking']\r\n",
        "                yearlist2.append(nd)\r\n",
        "    yeardict[y]=pd.DataFrame(yearlist2)#one for each year\r\n",
        "\r\n",
        "yearspanel=pd.concat(yeardict, axis=0).reset_index()\r\n",
        "yearspanel=yearspanel.sort_values(by=['ranking','level_0'])\r\n",
        "flatframe=yearspanel.reset_index()\r\n",
        "del flatframe['level_1']\r\n",
        "del flatframe['index']\r\n",
        "flatframe = flatframe.rename(columns={'level_0':'year'})\r\n",
        "flatframe.head(10)"
      ],
      "execution_count": 12,
      "outputs": [
        {
          "output_type": "execute_result",
          "data": {
            "text/html": [
              "<div>\n",
              "<style scoped>\n",
              "    .dataframe tbody tr th:only-of-type {\n",
              "        vertical-align: middle;\n",
              "    }\n",
              "\n",
              "    .dataframe tbody tr th {\n",
              "        vertical-align: top;\n",
              "    }\n",
              "\n",
              "    .dataframe thead th {\n",
              "        text-align: right;\n",
              "    }\n",
              "</style>\n",
              "<table border=\"1\" class=\"dataframe\">\n",
              "  <thead>\n",
              "    <tr style=\"text-align: right;\">\n",
              "      <th></th>\n",
              "      <th>year</th>\n",
              "      <th>band_singer</th>\n",
              "      <th>url</th>\n",
              "      <th>song</th>\n",
              "      <th>songurl</th>\n",
              "      <th>ranking</th>\n",
              "    </tr>\n",
              "  </thead>\n",
              "  <tbody>\n",
              "    <tr>\n",
              "      <th>0</th>\n",
              "      <td>1992</td>\n",
              "      <td>Boyz II Men</td>\n",
              "      <td>/wiki/Boyz_II_Men</td>\n",
              "      <td>End of the Road (Boyz II Men song)</td>\n",
              "      <td>/wiki/End_of_the_Road_(Boyz_II_Men_song)</td>\n",
              "      <td>1</td>\n",
              "    </tr>\n",
              "    <tr>\n",
              "      <th>1</th>\n",
              "      <td>1993</td>\n",
              "      <td>Whitney Houston</td>\n",
              "      <td>/wiki/Whitney_Houston</td>\n",
              "      <td>I Will Always Love You</td>\n",
              "      <td>/wiki/I_Will_Always_Love_You#Whitney_Houston_v...</td>\n",
              "      <td>1</td>\n",
              "    </tr>\n",
              "    <tr>\n",
              "      <th>2</th>\n",
              "      <td>1994</td>\n",
              "      <td>Ace of Base</td>\n",
              "      <td>/wiki/Ace_of_Base</td>\n",
              "      <td>The Sign (song)</td>\n",
              "      <td>/wiki/The_Sign_(song)</td>\n",
              "      <td>1</td>\n",
              "    </tr>\n",
              "    <tr>\n",
              "      <th>3</th>\n",
              "      <td>1995</td>\n",
              "      <td>Coolio</td>\n",
              "      <td>/wiki/Coolio</td>\n",
              "      <td>Gangsta's Paradise</td>\n",
              "      <td>/wiki/Gangsta%27s_Paradise</td>\n",
              "      <td>1</td>\n",
              "    </tr>\n",
              "    <tr>\n",
              "      <th>4</th>\n",
              "      <td>1995</td>\n",
              "      <td>L.V. (singer)</td>\n",
              "      <td>/wiki/L.V._(singer)</td>\n",
              "      <td>Gangsta's Paradise</td>\n",
              "      <td>/wiki/Gangsta%27s_Paradise</td>\n",
              "      <td>1</td>\n",
              "    </tr>\n",
              "    <tr>\n",
              "      <th>5</th>\n",
              "      <td>1996</td>\n",
              "      <td>Los del Río</td>\n",
              "      <td>/wiki/Los_del_R%C3%ADo</td>\n",
              "      <td>Macarena (song)</td>\n",
              "      <td>/wiki/Macarena_(song)</td>\n",
              "      <td>1</td>\n",
              "    </tr>\n",
              "    <tr>\n",
              "      <th>6</th>\n",
              "      <td>1997</td>\n",
              "      <td>Elton John</td>\n",
              "      <td>/wiki/Elton_John</td>\n",
              "      <td>Something About the Way You Look Tonight</td>\n",
              "      <td>/wiki/Something_About_the_Way_You_Look_Tonight</td>\n",
              "      <td>1</td>\n",
              "    </tr>\n",
              "    <tr>\n",
              "      <th>7</th>\n",
              "      <td>1997</td>\n",
              "      <td>Elton John</td>\n",
              "      <td>/wiki/Elton_John</td>\n",
              "      <td>Candle in the Wind 1997</td>\n",
              "      <td>/wiki/Candle_in_the_Wind_1997</td>\n",
              "      <td>1</td>\n",
              "    </tr>\n",
              "    <tr>\n",
              "      <th>8</th>\n",
              "      <td>1998</td>\n",
              "      <td>Next (group)</td>\n",
              "      <td>/wiki/Next_(group)</td>\n",
              "      <td>Too Close (Next song)</td>\n",
              "      <td>/wiki/Too_Close_(Next_song)</td>\n",
              "      <td>1</td>\n",
              "    </tr>\n",
              "    <tr>\n",
              "      <th>9</th>\n",
              "      <td>1999</td>\n",
              "      <td>Cher</td>\n",
              "      <td>/wiki/Cher</td>\n",
              "      <td>Believe (Cher song)</td>\n",
              "      <td>/wiki/Believe_(Cher_song)</td>\n",
              "      <td>1</td>\n",
              "    </tr>\n",
              "  </tbody>\n",
              "</table>\n",
              "</div>"
            ],
            "text/plain": [
              "   year  ... ranking\n",
              "0  1992  ...       1\n",
              "1  1993  ...       1\n",
              "2  1994  ...       1\n",
              "3  1995  ...       1\n",
              "4  1995  ...       1\n",
              "5  1996  ...       1\n",
              "6  1997  ...       1\n",
              "7  1997  ...       1\n",
              "8  1998  ...       1\n",
              "9  1999  ...       1\n",
              "\n",
              "[10 rows x 6 columns]"
            ]
          },
          "metadata": {
            "tags": []
          },
          "execution_count": 12
        }
      ]
    },
    {
      "cell_type": "code",
      "metadata": {
        "colab": {
          "base_uri": "https://localhost:8080/"
        },
        "id": "R4lVENz-lcRP",
        "outputId": "c0a2916b-48e8-4443-c07a-5f65a5ca4a38"
      },
      "source": [
        "flatframe.dtypes"
      ],
      "execution_count": 13,
      "outputs": [
        {
          "output_type": "execute_result",
          "data": {
            "text/plain": [
              "year           object\n",
              "band_singer    object\n",
              "url            object\n",
              "song           object\n",
              "songurl        object\n",
              "ranking         int64\n",
              "dtype: object"
            ]
          },
          "metadata": {
            "tags": []
          },
          "execution_count": 13
        }
      ]
    },
    {
      "cell_type": "code",
      "metadata": {
        "colab": {
          "base_uri": "https://localhost:8080/"
        },
        "id": "YDzVXmdgmdqr",
        "outputId": "1ec8b067-db85-46b6-a7ec-dce056626393"
      },
      "source": [
        "flatframe['year']=flatframe['year'].astype(\"int\")\r\n",
        "flatframe['band_singer']=flatframe['band_singer'].astype(\"string\")\r\n",
        "flatframe['url']=flatframe['url'].astype(\"string\")\r\n",
        "flatframe['song']=flatframe['song'].astype(\"string\")\r\n",
        "flatframe['songurl']=flatframe['songurl'].astype(\"string\")\r\n",
        "flatframe.dtypes"
      ],
      "execution_count": 14,
      "outputs": [
        {
          "output_type": "execute_result",
          "data": {
            "text/plain": [
              "year            int64\n",
              "band_singer    string\n",
              "url            string\n",
              "song           string\n",
              "songurl        string\n",
              "ranking         int64\n",
              "dtype: object"
            ]
          },
          "metadata": {
            "tags": []
          },
          "execution_count": 14
        }
      ]
    },
    {
      "cell_type": "markdown",
      "metadata": {
        "id": "BJvhkYr4mkul"
      },
      "source": [
        "Converting the dataframe to a pickle file"
      ]
    },
    {
      "cell_type": "code",
      "metadata": {
        "id": "Qy1cKXQmmgUe"
      },
      "source": [
        "flatframe.to_pickle('/content/gdrive/MyDrive/flatframedf')\r\n",
        "del flatframe"
      ],
      "execution_count": 15,
      "outputs": []
    },
    {
      "cell_type": "code",
      "metadata": {
        "colab": {
          "base_uri": "https://localhost:8080/",
          "height": 195
        },
        "id": "mrjPi6r6m9Gy",
        "outputId": "9329737d-0428-4910-c0e9-ab94b4dcfd2f"
      },
      "source": [
        "#Loading in the dataframe\r\n",
        "flatframe = pd.read_pickle('/content/gdrive/MyDrive/flatframedf')\r\n",
        "flatframe.head()"
      ],
      "execution_count": 16,
      "outputs": [
        {
          "output_type": "execute_result",
          "data": {
            "text/html": [
              "<div>\n",
              "<style scoped>\n",
              "    .dataframe tbody tr th:only-of-type {\n",
              "        vertical-align: middle;\n",
              "    }\n",
              "\n",
              "    .dataframe tbody tr th {\n",
              "        vertical-align: top;\n",
              "    }\n",
              "\n",
              "    .dataframe thead th {\n",
              "        text-align: right;\n",
              "    }\n",
              "</style>\n",
              "<table border=\"1\" class=\"dataframe\">\n",
              "  <thead>\n",
              "    <tr style=\"text-align: right;\">\n",
              "      <th></th>\n",
              "      <th>year</th>\n",
              "      <th>band_singer</th>\n",
              "      <th>url</th>\n",
              "      <th>song</th>\n",
              "      <th>songurl</th>\n",
              "      <th>ranking</th>\n",
              "    </tr>\n",
              "  </thead>\n",
              "  <tbody>\n",
              "    <tr>\n",
              "      <th>0</th>\n",
              "      <td>1992</td>\n",
              "      <td>Boyz II Men</td>\n",
              "      <td>/wiki/Boyz_II_Men</td>\n",
              "      <td>End of the Road (Boyz II Men song)</td>\n",
              "      <td>/wiki/End_of_the_Road_(Boyz_II_Men_song)</td>\n",
              "      <td>1</td>\n",
              "    </tr>\n",
              "    <tr>\n",
              "      <th>1</th>\n",
              "      <td>1993</td>\n",
              "      <td>Whitney Houston</td>\n",
              "      <td>/wiki/Whitney_Houston</td>\n",
              "      <td>I Will Always Love You</td>\n",
              "      <td>/wiki/I_Will_Always_Love_You#Whitney_Houston_v...</td>\n",
              "      <td>1</td>\n",
              "    </tr>\n",
              "    <tr>\n",
              "      <th>2</th>\n",
              "      <td>1994</td>\n",
              "      <td>Ace of Base</td>\n",
              "      <td>/wiki/Ace_of_Base</td>\n",
              "      <td>The Sign (song)</td>\n",
              "      <td>/wiki/The_Sign_(song)</td>\n",
              "      <td>1</td>\n",
              "    </tr>\n",
              "    <tr>\n",
              "      <th>3</th>\n",
              "      <td>1995</td>\n",
              "      <td>Coolio</td>\n",
              "      <td>/wiki/Coolio</td>\n",
              "      <td>Gangsta's Paradise</td>\n",
              "      <td>/wiki/Gangsta%27s_Paradise</td>\n",
              "      <td>1</td>\n",
              "    </tr>\n",
              "    <tr>\n",
              "      <th>4</th>\n",
              "      <td>1995</td>\n",
              "      <td>L.V. (singer)</td>\n",
              "      <td>/wiki/L.V._(singer)</td>\n",
              "      <td>Gangsta's Paradise</td>\n",
              "      <td>/wiki/Gangsta%27s_Paradise</td>\n",
              "      <td>1</td>\n",
              "    </tr>\n",
              "  </tbody>\n",
              "</table>\n",
              "</div>"
            ],
            "text/plain": [
              "   year  ... ranking\n",
              "0  1992  ...       1\n",
              "1  1993  ...       1\n",
              "2  1994  ...       1\n",
              "3  1995  ...       1\n",
              "4  1995  ...       1\n",
              "\n",
              "[5 rows x 6 columns]"
            ]
          },
          "metadata": {
            "tags": []
          },
          "execution_count": 16
        }
      ]
    },
    {
      "cell_type": "markdown",
      "metadata": {
        "id": "XADapC7VnOVP"
      },
      "source": [
        "## Scraping and Parsing Wikipedia for artists' info"
      ]
    },
    {
      "cell_type": "markdown",
      "metadata": {
        "id": "ymbgojBjnpX-"
      },
      "source": [
        "A cache object `urlcache` that will avoid redundant HTTP requests (e.g. an artist might have multiple singles on a single year, or be on the list over a span of years) is created. This function is designed to be used in a loop over years, and then a loop over songs per year. Since network requests are relatively slow, if we have already requested for a singer or band's wikipedia page, caching the results speeds up scraping for hundreds of artist webpages.\r\n",
        "\r\n",
        "We have wrapped the call in _an exception block_. If the request gets an HTTP code different from 200, the cells for that URL will have a value of 1; and if the request completely fails (e.g. no network connection) the cell will have a value of 2. This will allow you to analyse the failed requests."
      ]
    },
    {
      "cell_type": "code",
      "metadata": {
        "id": "XVhreDK9nFzi"
      },
      "source": [
        "urlcache={}\r\n",
        "def get_page(url):\r\n",
        "    if (url not in urlcache) or (urlcache[url]==1) or (urlcache[url]==2):\r\n",
        "        time.sleep(1)\r\n",
        "        try:\r\n",
        "            r = requests.get(\"http://en.wikipedia.org%s\" % url)\r\n",
        "            if r.status_code == 200:\r\n",
        "                urlcache[url] = r.text\r\n",
        "            else:\r\n",
        "                urlcache[url] = 1\r\n",
        "        except:\r\n",
        "            urlcache[url] = 2\r\n",
        "    return urlcache[url]"
      ],
      "execution_count": 17,
      "outputs": []
    },
    {
      "cell_type": "code",
      "metadata": {
        "colab": {
          "base_uri": "https://localhost:8080/",
          "height": 195
        },
        "id": "mgTF_1O1oQGq",
        "outputId": "83d9e8ee-cfaa-42c4-b117-40297413204d"
      },
      "source": [
        "flatframe=flatframe.sort_values('year')\r\n",
        "flatframe.head()"
      ],
      "execution_count": 18,
      "outputs": [
        {
          "output_type": "execute_result",
          "data": {
            "text/html": [
              "<div>\n",
              "<style scoped>\n",
              "    .dataframe tbody tr th:only-of-type {\n",
              "        vertical-align: middle;\n",
              "    }\n",
              "\n",
              "    .dataframe tbody tr th {\n",
              "        vertical-align: top;\n",
              "    }\n",
              "\n",
              "    .dataframe thead th {\n",
              "        text-align: right;\n",
              "    }\n",
              "</style>\n",
              "<table border=\"1\" class=\"dataframe\">\n",
              "  <thead>\n",
              "    <tr style=\"text-align: right;\">\n",
              "      <th></th>\n",
              "      <th>year</th>\n",
              "      <th>band_singer</th>\n",
              "      <th>url</th>\n",
              "      <th>song</th>\n",
              "      <th>songurl</th>\n",
              "      <th>ranking</th>\n",
              "    </tr>\n",
              "  </thead>\n",
              "  <tbody>\n",
              "    <tr>\n",
              "      <th>0</th>\n",
              "      <td>1992</td>\n",
              "      <td>Boyz II Men</td>\n",
              "      <td>/wiki/Boyz_II_Men</td>\n",
              "      <td>End of the Road (Boyz II Men song)</td>\n",
              "      <td>/wiki/End_of_the_Road_(Boyz_II_Men_song)</td>\n",
              "      <td>1</td>\n",
              "    </tr>\n",
              "    <tr>\n",
              "      <th>1822</th>\n",
              "      <td>1992</td>\n",
              "      <td>KWS (band)</td>\n",
              "      <td>/wiki/KWS_(band)</td>\n",
              "      <td>Please Don't Go (KC and the Sunshine Band song)</td>\n",
              "      <td>/wiki/Please_Don%27t_Go_(KC_and_the_Sunshine_B...</td>\n",
              "      <td>47</td>\n",
              "    </tr>\n",
              "    <tr>\n",
              "      <th>2096</th>\n",
              "      <td>1992</td>\n",
              "      <td>Michael Bolton</td>\n",
              "      <td>/wiki/Michael_Bolton</td>\n",
              "      <td>When a Man Loves a Woman (song)</td>\n",
              "      <td>/wiki/When_a_Man_Loves_a_Woman_(song)</td>\n",
              "      <td>54</td>\n",
              "    </tr>\n",
              "    <tr>\n",
              "      <th>633</th>\n",
              "      <td>1992</td>\n",
              "      <td>Guns N' Roses</td>\n",
              "      <td>/wiki/Guns_N%27_Roses</td>\n",
              "      <td>November Rain</td>\n",
              "      <td>/wiki/November_Rain</td>\n",
              "      <td>17</td>\n",
              "    </tr>\n",
              "    <tr>\n",
              "      <th>2555</th>\n",
              "      <td>1992</td>\n",
              "      <td>Michael Jackson</td>\n",
              "      <td>/wiki/Michael_Jackson</td>\n",
              "      <td>In the Closet</td>\n",
              "      <td>/wiki/In_the_Closet</td>\n",
              "      <td>66</td>\n",
              "    </tr>\n",
              "  </tbody>\n",
              "</table>\n",
              "</div>"
            ],
            "text/plain": [
              "      year  ... ranking\n",
              "0     1992  ...       1\n",
              "1822  1992  ...      47\n",
              "2096  1992  ...      54\n",
              "633   1992  ...      17\n",
              "2555  1992  ...      66\n",
              "\n",
              "[5 rows x 6 columns]"
            ]
          },
          "metadata": {
            "tags": []
          },
          "execution_count": 18
        }
      ]
    },
    {
      "cell_type": "code",
      "metadata": {
        "colab": {
          "base_uri": "https://localhost:8080/"
        },
        "id": "yeOGllufoVlw",
        "outputId": "8d42d49f-bfd7-4500-9bef-e2e848c61a7b"
      },
      "source": [
        "flatframe[\"url\"].apply(get_page)"
      ],
      "execution_count": 19,
      "outputs": [
        {
          "output_type": "execute_result",
          "data": {
            "text/plain": [
              "0       <!DOCTYPE html>\\n<html class=\"client-nojs\" lan...\n",
              "1822    <!DOCTYPE html>\\n<html class=\"client-nojs\" lan...\n",
              "2096    <!DOCTYPE html>\\n<html class=\"client-nojs\" lan...\n",
              "633     <!DOCTYPE html>\\n<html class=\"client-nojs\" lan...\n",
              "2555    <!DOCTYPE html>\\n<html class=\"client-nojs\" lan...\n",
              "                              ...                        \n",
              "758     <!DOCTYPE html>\\n<html class=\"client-nojs\" lan...\n",
              "759     <!DOCTYPE html>\\n<html class=\"client-nojs\" lan...\n",
              "3097    <!DOCTYPE html>\\n<html class=\"client-nojs\" lan...\n",
              "3179    <!DOCTYPE html>\\n<html class=\"client-nojs\" lan...\n",
              "3909    <!DOCTYPE html>\\n<html class=\"client-nojs\" lan...\n",
              "Name: url, Length: 3910, dtype: object"
            ]
          },
          "metadata": {
            "tags": []
          },
          "execution_count": 19
        }
      ]
    },
    {
      "cell_type": "code",
      "metadata": {
        "colab": {
          "base_uri": "https://localhost:8080/"
        },
        "id": "mOiQePxvocMS",
        "outputId": "ff202b09-effe-4325-ab08-1e445f75ef19"
      },
      "source": [
        "#Let us make sure that there are no unresolved pages\r\n",
        "#The sum below should be 0, and the boolean True. If that is not the case, run the above cell again until you get a sum of 0 and a boolean True\r\n",
        "print (np.sum([(urlcache[k]==1) or (urlcache[k]==2) and isinstance(k,str) for k in urlcache]))\r\n",
        "print (len(flatframe.url.unique())==len(urlcache))#we got all of the urls"
      ],
      "execution_count": 20,
      "outputs": [
        {
          "output_type": "stream",
          "text": [
            "0\n",
            "True\n"
          ],
          "name": "stdout"
        }
      ]
    },
    {
      "cell_type": "code",
      "metadata": {
        "id": "YJ36IXY3t9KX"
      },
      "source": [
        "#Let's save the `urlcache` and remove the old object. \r\n",
        "keys_values = urlcache.items()\r\n",
        "urlcache = {str(key): str(value) for key, value in keys_values}\r\n",
        "with open(\"/content/gdrive/MyDrive/artistinfo.json\",\"w\") as fd:\r\n",
        "    json.dump(urlcache, fd)\r\n",
        "del urlcache"
      ],
      "execution_count": 22,
      "outputs": []
    },
    {
      "cell_type": "code",
      "metadata": {
        "id": "fclw69p7uCW5"
      },
      "source": [
        "with open(\"/content/gdrive/MyDrive/artistinfo.json\") as json_file:\r\n",
        "    urlcache = json.load(json_file)"
      ],
      "execution_count": 23,
      "outputs": []
    },
    {
      "cell_type": "markdown",
      "metadata": {
        "id": "051acleSvJ45"
      },
      "source": [
        "## Parsing the Data"
      ]
    },
    {
      "cell_type": "markdown",
      "metadata": {
        "id": "esj03IzjvP3A"
      },
      "source": [
        "Things kept in mind: \r\n",
        "\r\n",
        "Wikipedia has defined the same genre in a few different ways. Our parsing code will pick these up as different and new as they all differ with the alphabet case or an underscore instead of a hyphen.\r\n",
        "\r\n",
        "We have defined a function to ensure that we have the correct representation of the number of artists in a particular genre."
      ]
    },
    {
      "cell_type": "code",
      "metadata": {
        "id": "mU4-oXzRu15c"
      },
      "source": [
        "genres_duplicates={'/wiki/Adult_Contemporary_music':'/wiki/Adult_contemporary','/wiki/Adult_contemporary_music':'/wiki/Adult_contemporary',\r\n",
        "'/wiki/Afrobeat':'/wiki/Afrobeats',\r\n",
        "'/wiki/Alternative_rock':'/wiki/Alternative_Rock',\r\n",
        "'/wiki/Avant-garde':'/wiki/Avant-garde_music',\r\n",
        "'/wiki/Blues':'/wiki/Blues_music',\r\n",
        "'/wiki/Comedy_hip-hop':'/wiki/Comedy_hip_hop',\r\n",
        "'/wiki/Contemporary_R%26B':'/wiki/Contemporary_R%26B_music',\r\n",
        "'/wiki/Contemporary_folk':'/wiki/Contemporary_folk_music',\r\n",
        "'/wiki/Country_Folk':'/wiki/Country_folk',\r\n",
        "'/wiki/Dance_pop':'/wiki/Dance-pop',\r\n",
        "'/wiki/East_Coast_hip_hop':'/wiki/East_coast_hip_hop',\r\n",
        "'/wiki/Electronic_Dance_Music':'/wiki/Electronic_dance_music',\r\n",
        "'/wiki/Electronica':'/wiki/Electronica_music',\r\n",
        "'/wiki/Emo':'/wiki/Emo_music',\r\n",
        "'/wiki/Electropop':'/wiki/Electro-pop',\r\n",
        "'/wiki/Folk-pop':'/wiki/Folk_pop',\r\n",
        "'/wiki/Funk':'/wiki/Funk_music',\r\n",
        "'/wiki/Grime_(music_genre)':'/wiki/Grime_music',\r\n",
        "'/wiki/Gangsta_Rap':'/wiki/Gangsta_rap',\r\n",
        "'/wiki/Hip_Hop_music': '/wiki/Hip_hop','/wiki/Hip_hop_music':'/wiki/Hip_hop',\r\n",
        "'/wiki/Hyphy':'/wiki/Hyphy_music',\r\n",
        "'/wiki/Latin_music':'/wiki/Latin_music_(genre)',\r\n",
        "'/wiki/West_Coast_hip_hop':'/wiki/West_coast_hip_hop',\r\n",
        "'/wiki/Southern_Hip_Hop':'/wiki/Southern_hip_hop',\r\n",
        "'/wiki/Ska':'/wiki/Ska_music',\r\n",
        "'/wiki/Pop-rock':'/wiki/Pop_rock',\r\n",
        "'/wiki/Pop_Music':'/wiki/Pop_music',\r\n",
        "'/wiki/Nu_metal':'/wiki/Nu_metal_music',\r\n",
        "'/wiki/Hard_Rock':'/wiki/Hard_rock',\r\n",
        "'/wiki/Pop_Rock':'/wiki/Pop_rock',\r\n",
        "'/wiki/Post-Grunge':'/wiki/Post-grunge',\r\n",
        "'/wiki/SoundCloud_rap':'/wiki/Soundcloud_rap'}\r\n",
        "\r\n",
        "def genre_duplicates(genres):\r\n",
        "    for i in range(len(genres)):\r\n",
        "        if genres[i] in genres_duplicates.keys():\r\n",
        "            genres[i]=genres_duplicates[genres[i]]\r\n",
        "    return genres "
      ],
      "execution_count": 24,
      "outputs": []
    },
    {
      "cell_type": "code",
      "metadata": {
        "id": "ep3I4U6Svnda"
      },
      "source": [
        "# Function to get the longest active years for an artist\r\n",
        "def most_active_years(ya):\r\n",
        "    max_years=0\r\n",
        "    for i,k in enumerate(ya):\r\n",
        "        x=k.split('–')\r\n",
        "        if 'present' in x[1].lower():\r\n",
        "            x[1]=2021\r\n",
        "        if max_years<int(x[1])-int(x[0]):\r\n",
        "            index=i\r\n",
        "            max_years = int(x[1])-int(x[0])\r\n",
        "    return index"
      ],
      "execution_count": 25,
      "outputs": []
    },
    {
      "cell_type": "code",
      "metadata": {
        "id": "AWog9o-Avx9R"
      },
      "source": [
        "\"\"\"\r\n",
        "Function\r\n",
        "--------\r\n",
        "singer_band_info\r\n",
        "\r\n",
        "Inputs\r\n",
        "------\r\n",
        "url: the url\r\n",
        "page_text: the text associated with the url\r\n",
        "   \r\n",
        "Returns\r\n",
        "-------\r\n",
        "A dictionary with the following data:\r\n",
        "    url: copy the input argument url into this value\r\n",
        "    genres: the genres that the band or singer works in\r\n",
        "    born: the artist's birthday\r\n",
        "    ya: years active variable\r\n",
        "        we'll use regex to parse the years\r\n",
        "\r\n",
        "\"\"\"\r\n",
        "def singer_band_info(url, page_text):\r\n",
        "    genres=['NA']\r\n",
        "    born=None\r\n",
        "    ya=None\r\n",
        "    try:\r\n",
        "        soup = BeautifulSoup(page_text, \"html.parser\")\r\n",
        "        rows=soup.find(\"table\",attrs={\"class\": \"infobox\"}).find_all(\"tr\")\r\n",
        "        for i,r in enumerate(rows):\r\n",
        "            if 'Genre' in r.text:\r\n",
        "                genres=[]\r\n",
        "                g=rows[i].find(\"td\")\r\n",
        "                gen=[i.get(\"href\") for i in g.find_all(\"a\") if 'cite_note' not in i.get(\"href\")]\r\n",
        "                genres=genre_duplicates(gen)\r\n",
        "            if 'Born' in r.text and rows[i].find('span',attrs={\"class\": \"bday\"})!=None:\r\n",
        "                born=rows[i].find('span',attrs={\"class\": \"bday\"}).text.strip(' ').strip('(').strip(')')\r\n",
        "            if 'Years' in r.text:\r\n",
        "                ya=rows[i].find(\"td\")\r\n",
        "                text=[text for text in ya.find_all(text=True) if text.parent.name not in ['a','span']]\r\n",
        "                ya=''.join(text)\r\n",
        "                ya = re.findall(\"[0-9]{4}[–][0-9]{4}\", ya) + re.findall(\"[0-9]{4}[–][a-zA-Z]{7}\", ya)\r\n",
        "                if ya !=[]:\r\n",
        "                  ind=most_active_years(ya)\r\n",
        "                  ya=ya[ind]\r\n",
        "        print(dict(url=url,genres=genres, born=born, ya=ya))\r\n",
        "        return(dict(url=url,genres=genres, born=born, ya=ya))\r\n",
        "    except (AttributeError,TypeError): \r\n",
        "      pass"
      ],
      "execution_count": 33,
      "outputs": []
    },
    {
      "cell_type": "code",
      "metadata": {
        "id": "Lc5emVeCwo9q"
      },
      "source": [
        "singer_band_info_list=[]\r\n",
        "for k,v in urlcache.items():\r\n",
        "  x=singer_band_info(k, v)\r\n",
        "  if x!=None:\r\n",
        "      singer_band_info_list.append(x)"
      ],
      "execution_count": 34,
      "outputs": []
    },
    {
      "cell_type": "code",
      "metadata": {
        "id": "PdSlZSx_wvA-"
      },
      "source": [
        "#Store the list and delete the variable\r\n",
        "with open(\"/content/gdrive/MyDrive/singer_band_info.json\",\"w\") as fd:\r\n",
        "    json.dump(singer_band_info_list, fd)\r\n",
        "del singer_band_info_list"
      ],
      "execution_count": 31,
      "outputs": []
    },
    {
      "cell_type": "code",
      "metadata": {
        "id": "1iLxOXTmxsbM"
      },
      "source": [
        "#Load the list into a variable\r\n",
        "with open(\"/content/gdrive/MyDrive/singer_band_info.json\") as json_file:\r\n",
        "    singer_band_info_list = json.load(json_file)"
      ],
      "execution_count": 32,
      "outputs": []
    },
    {
      "cell_type": "code",
      "metadata": {
        "colab": {
          "base_uri": "https://localhost:8080/",
          "height": 195
        },
        "id": "BFyGfBB6zDbu",
        "outputId": "d27f2989-4f17-4d04-8844-101981a3e974"
      },
      "source": [
        "tempdf=pd.DataFrame(singer_band_info_list)\r\n",
        "tempdf.head()"
      ],
      "execution_count": 35,
      "outputs": [
        {
          "output_type": "execute_result",
          "data": {
            "text/html": [
              "<div>\n",
              "<style scoped>\n",
              "    .dataframe tbody tr th:only-of-type {\n",
              "        vertical-align: middle;\n",
              "    }\n",
              "\n",
              "    .dataframe tbody tr th {\n",
              "        vertical-align: top;\n",
              "    }\n",
              "\n",
              "    .dataframe thead th {\n",
              "        text-align: right;\n",
              "    }\n",
              "</style>\n",
              "<table border=\"1\" class=\"dataframe\">\n",
              "  <thead>\n",
              "    <tr style=\"text-align: right;\">\n",
              "      <th></th>\n",
              "      <th>url</th>\n",
              "      <th>genres</th>\n",
              "      <th>born</th>\n",
              "      <th>ya</th>\n",
              "    </tr>\n",
              "  </thead>\n",
              "  <tbody>\n",
              "    <tr>\n",
              "      <th>0</th>\n",
              "      <td>/wiki/Boyz_II_Men</td>\n",
              "      <td>[/wiki/Contemporary_R%26B_music, /wiki/New_jac...</td>\n",
              "      <td>None</td>\n",
              "      <td>1987–present</td>\n",
              "    </tr>\n",
              "    <tr>\n",
              "      <th>1</th>\n",
              "      <td>/wiki/KWS_(band)</td>\n",
              "      <td>[/wiki/Pop_music, /wiki/Electronica_music, /wi...</td>\n",
              "      <td>None</td>\n",
              "      <td>1991–1994</td>\n",
              "    </tr>\n",
              "    <tr>\n",
              "      <th>2</th>\n",
              "      <td>/wiki/Michael_Bolton</td>\n",
              "      <td>[/wiki/Pop_rock, /wiki/Soft_rock, /wiki/Blue-e...</td>\n",
              "      <td>1953-02-26</td>\n",
              "      <td>1975–present</td>\n",
              "    </tr>\n",
              "    <tr>\n",
              "      <th>3</th>\n",
              "      <td>/wiki/Guns_N%27_Roses</td>\n",
              "      <td>[/wiki/Hard_rock, /wiki/Heavy_metal_music]</td>\n",
              "      <td>None</td>\n",
              "      <td>1985–present</td>\n",
              "    </tr>\n",
              "    <tr>\n",
              "      <th>4</th>\n",
              "      <td>/wiki/Michael_Jackson</td>\n",
              "      <td>[/wiki/Pop_music, /wiki/Soul_music, /wiki/Funk...</td>\n",
              "      <td>1958-08-29</td>\n",
              "      <td>1964–2009</td>\n",
              "    </tr>\n",
              "  </tbody>\n",
              "</table>\n",
              "</div>"
            ],
            "text/plain": [
              "                     url  ...            ya\n",
              "0      /wiki/Boyz_II_Men  ...  1987–present\n",
              "1       /wiki/KWS_(band)  ...     1991–1994\n",
              "2   /wiki/Michael_Bolton  ...  1975–present\n",
              "3  /wiki/Guns_N%27_Roses  ...  1985–present\n",
              "4  /wiki/Michael_Jackson  ...     1964–2009\n",
              "\n",
              "[5 rows x 4 columns]"
            ]
          },
          "metadata": {
            "tags": []
          },
          "execution_count": 35
        }
      ]
    },
    {
      "cell_type": "markdown",
      "metadata": {
        "id": "-jba54i3zVFh"
      },
      "source": [
        "Note that the \r\n",
        "`\r\n",
        "born\r\n",
        "`\r\n",
        "column shows None for the artists that perform as bands.\r\n"
      ]
    },
    {
      "cell_type": "markdown",
      "metadata": {
        "id": "au7SWm59z51c"
      },
      "source": [
        "##Creating a Dataframe "
      ]
    },
    {
      "cell_type": "code",
      "metadata": {
        "colab": {
          "base_uri": "https://localhost:8080/",
          "height": 279
        },
        "id": "vWYFjjQczcif",
        "outputId": "4593a580-9c5c-462d-c5ed-7bd874a86324"
      },
      "source": [
        "largedf=flatframe.merge(tempdf, on=\"url\")\r\n",
        "largedf.head()"
      ],
      "execution_count": 36,
      "outputs": [
        {
          "output_type": "execute_result",
          "data": {
            "text/html": [
              "<div>\n",
              "<style scoped>\n",
              "    .dataframe tbody tr th:only-of-type {\n",
              "        vertical-align: middle;\n",
              "    }\n",
              "\n",
              "    .dataframe tbody tr th {\n",
              "        vertical-align: top;\n",
              "    }\n",
              "\n",
              "    .dataframe thead th {\n",
              "        text-align: right;\n",
              "    }\n",
              "</style>\n",
              "<table border=\"1\" class=\"dataframe\">\n",
              "  <thead>\n",
              "    <tr style=\"text-align: right;\">\n",
              "      <th></th>\n",
              "      <th>year</th>\n",
              "      <th>band_singer</th>\n",
              "      <th>url</th>\n",
              "      <th>song</th>\n",
              "      <th>songurl</th>\n",
              "      <th>ranking</th>\n",
              "      <th>genres</th>\n",
              "      <th>born</th>\n",
              "      <th>ya</th>\n",
              "    </tr>\n",
              "  </thead>\n",
              "  <tbody>\n",
              "    <tr>\n",
              "      <th>0</th>\n",
              "      <td>1992</td>\n",
              "      <td>Boyz II Men</td>\n",
              "      <td>/wiki/Boyz_II_Men</td>\n",
              "      <td>End of the Road (Boyz II Men song)</td>\n",
              "      <td>/wiki/End_of_the_Road_(Boyz_II_Men_song)</td>\n",
              "      <td>1</td>\n",
              "      <td>[/wiki/Contemporary_R%26B_music, /wiki/New_jac...</td>\n",
              "      <td>None</td>\n",
              "      <td>1987–present</td>\n",
              "    </tr>\n",
              "    <tr>\n",
              "      <th>1</th>\n",
              "      <td>1992</td>\n",
              "      <td>Boyz II Men</td>\n",
              "      <td>/wiki/Boyz_II_Men</td>\n",
              "      <td>It's So Hard to Say Goodbye to Yesterday</td>\n",
              "      <td>/wiki/It%27s_So_Hard_to_Say_Goodbye_to_Yesterday</td>\n",
              "      <td>37</td>\n",
              "      <td>[/wiki/Contemporary_R%26B_music, /wiki/New_jac...</td>\n",
              "      <td>None</td>\n",
              "      <td>1987–present</td>\n",
              "    </tr>\n",
              "    <tr>\n",
              "      <th>2</th>\n",
              "      <td>1992</td>\n",
              "      <td>Boyz II Men</td>\n",
              "      <td>/wiki/Boyz_II_Men</td>\n",
              "      <td>Uhh Ahh</td>\n",
              "      <td>/wiki/Uhh_Ahh</td>\n",
              "      <td>84</td>\n",
              "      <td>[/wiki/Contemporary_R%26B_music, /wiki/New_jac...</td>\n",
              "      <td>None</td>\n",
              "      <td>1987–present</td>\n",
              "    </tr>\n",
              "    <tr>\n",
              "      <th>3</th>\n",
              "      <td>1993</td>\n",
              "      <td>Boyz II Men</td>\n",
              "      <td>/wiki/Boyz_II_Men</td>\n",
              "      <td>In the Still of the Night (1956 song)</td>\n",
              "      <td>/wiki/In_the_Still_of_the_Night_(1956_song)#Bo...</td>\n",
              "      <td>12</td>\n",
              "      <td>[/wiki/Contemporary_R%26B_music, /wiki/New_jac...</td>\n",
              "      <td>None</td>\n",
              "      <td>1987–present</td>\n",
              "    </tr>\n",
              "    <tr>\n",
              "      <th>4</th>\n",
              "      <td>1994</td>\n",
              "      <td>Boyz II Men</td>\n",
              "      <td>/wiki/Boyz_II_Men</td>\n",
              "      <td>I'll Make Love to You</td>\n",
              "      <td>/wiki/I%27ll_Make_Love_to_You</td>\n",
              "      <td>3</td>\n",
              "      <td>[/wiki/Contemporary_R%26B_music, /wiki/New_jac...</td>\n",
              "      <td>None</td>\n",
              "      <td>1987–present</td>\n",
              "    </tr>\n",
              "  </tbody>\n",
              "</table>\n",
              "</div>"
            ],
            "text/plain": [
              "   year  band_singer  ...  born            ya\n",
              "0  1992  Boyz II Men  ...  None  1987–present\n",
              "1  1992  Boyz II Men  ...  None  1987–present\n",
              "2  1992  Boyz II Men  ...  None  1987–present\n",
              "3  1993  Boyz II Men  ...  None  1987–present\n",
              "4  1994  Boyz II Men  ...  None  1987–present\n",
              "\n",
              "[5 rows x 9 columns]"
            ]
          },
          "metadata": {
            "tags": []
          },
          "execution_count": 36
        }
      ]
    },
    {
      "cell_type": "code",
      "metadata": {
        "id": "ZUReQ-ebzR9v"
      },
      "source": [
        "genres = set()\r\n",
        "for g in largedf.genres:\r\n",
        "    genres.update(g)\r\n",
        "genres = sorted(genres)\r\n",
        "\r\n",
        "#Make a column for each genre\r\n",
        "for genre in genres:\r\n",
        "      largedf[genre] = [(genre in singergenres)*1 for singergenres in largedf.genres]         "
      ],
      "execution_count": 37,
      "outputs": []
    },
    {
      "cell_type": "code",
      "metadata": {
        "id": "yZF5oJGL0J7U"
      },
      "source": [
        "largedf['ya']=largedf['ya'].astype(\"string\")\r\n",
        "largedf['url']=largedf['url'].astype(\"string\")\r\n",
        "largedf['genres']=largedf['genres'].astype(\"string\")\r\n",
        "largedf['born']=largedf['born'].astype(\"string\")"
      ],
      "execution_count": 38,
      "outputs": []
    },
    {
      "cell_type": "code",
      "metadata": {
        "id": "m7xcCrNJ0Nc5"
      },
      "source": [
        "largedf.to_pickle('/content/gdrive/MyDrive/largedf')\r\n",
        "del largedf"
      ],
      "execution_count": 39,
      "outputs": []
    },
    {
      "cell_type": "code",
      "metadata": {
        "colab": {
          "base_uri": "https://localhost:8080/",
          "height": 530
        },
        "id": "2XZ2ALkA0ol2",
        "outputId": "da8a7c47-229b-408e-c054-3648d9bb0ac3"
      },
      "source": [
        "largedf = pd.read_pickle('/content/gdrive/MyDrive/largedf')\r\n",
        "largedf.head()"
      ],
      "execution_count": 40,
      "outputs": [
        {
          "output_type": "execute_result",
          "data": {
            "text/html": [
              "<div>\n",
              "<style scoped>\n",
              "    .dataframe tbody tr th:only-of-type {\n",
              "        vertical-align: middle;\n",
              "    }\n",
              "\n",
              "    .dataframe tbody tr th {\n",
              "        vertical-align: top;\n",
              "    }\n",
              "\n",
              "    .dataframe thead th {\n",
              "        text-align: right;\n",
              "    }\n",
              "</style>\n",
              "<table border=\"1\" class=\"dataframe\">\n",
              "  <thead>\n",
              "    <tr style=\"text-align: right;\">\n",
              "      <th></th>\n",
              "      <th>year</th>\n",
              "      <th>band_singer</th>\n",
              "      <th>url</th>\n",
              "      <th>song</th>\n",
              "      <th>songurl</th>\n",
              "      <th>ranking</th>\n",
              "      <th>genres</th>\n",
              "      <th>born</th>\n",
              "      <th>ya</th>\n",
              "      <th>#Musical_style</th>\n",
              "      <th>/w/index.php?title=Soul_rock_(music)&amp;action=edit&amp;redlink=1</th>\n",
              "      <th>/wiki/Acid_jazz</th>\n",
              "      <th>/wiki/Acid_rock</th>\n",
              "      <th>/wiki/Acoustic_music</th>\n",
              "      <th>/wiki/Acoustic_rock</th>\n",
              "      <th>/wiki/Adult_contemporary</th>\n",
              "      <th>/wiki/Afrobeats</th>\n",
              "      <th>/wiki/Alternative_R%26B</th>\n",
              "      <th>/wiki/Alternative_Rock</th>\n",
              "      <th>/wiki/Alternative_country</th>\n",
              "      <th>/wiki/Alternative_dance</th>\n",
              "      <th>/wiki/Alternative_folk</th>\n",
              "      <th>/wiki/Alternative_hip_hop</th>\n",
              "      <th>/wiki/Alternative_metal</th>\n",
              "      <th>/wiki/Alternative_music</th>\n",
              "      <th>/wiki/Alternative_pop</th>\n",
              "      <th>/wiki/Ambient_music</th>\n",
              "      <th>/wiki/Americana_(music)</th>\n",
              "      <th>/wiki/Anarcho-punk</th>\n",
              "      <th>/wiki/Anti-folk</th>\n",
              "      <th>/wiki/Arena_rock</th>\n",
              "      <th>/wiki/Art_pop</th>\n",
              "      <th>/wiki/Art_rock</th>\n",
              "      <th>/wiki/Atlantic_Records</th>\n",
              "      <th>/wiki/Avant-funk</th>\n",
              "      <th>/wiki/Avant-garde_music</th>\n",
              "      <th>/wiki/Avant-pop</th>\n",
              "      <th>/wiki/Bachata_(music)</th>\n",
              "      <th>/wiki/Baroque_pop</th>\n",
              "      <th>/wiki/Bass_music</th>\n",
              "      <th>...</th>\n",
              "      <th>/wiki/Space_rock</th>\n",
              "      <th>/wiki/Speed_metal</th>\n",
              "      <th>/wiki/Spoken_word</th>\n",
              "      <th>/wiki/Surf_music</th>\n",
              "      <th>/wiki/Swing_music</th>\n",
              "      <th>/wiki/Synth-pop</th>\n",
              "      <th>/wiki/Synth-rock</th>\n",
              "      <th>/wiki/Synthpop</th>\n",
              "      <th>/wiki/Synthwave_(2000s_genre)</th>\n",
              "      <th>/wiki/Tech_house</th>\n",
              "      <th>/wiki/Techno</th>\n",
              "      <th>/wiki/Teen_pop</th>\n",
              "      <th>/wiki/Thrash_metal</th>\n",
              "      <th>/wiki/Traditional_pop_music</th>\n",
              "      <th>/wiki/Trance_music</th>\n",
              "      <th>/wiki/Trap_music</th>\n",
              "      <th>/wiki/Trap_music_(EDM)</th>\n",
              "      <th>/wiki/Trap_music_(hip_hop)</th>\n",
              "      <th>/wiki/Trip_hop</th>\n",
              "      <th>/wiki/Trop_rock</th>\n",
              "      <th>/wiki/Tropical_house</th>\n",
              "      <th>/wiki/Tropical_music</th>\n",
              "      <th>/wiki/UK_bass</th>\n",
              "      <th>/wiki/UK_funky</th>\n",
              "      <th>/wiki/UK_garage</th>\n",
              "      <th>/wiki/Underground_hip_hop</th>\n",
              "      <th>/wiki/Urban_adult_contemporary</th>\n",
              "      <th>/wiki/Urban_contemporary</th>\n",
              "      <th>/wiki/Urban_contemporary_gospel</th>\n",
              "      <th>/wiki/Urban_pop</th>\n",
              "      <th>/wiki/Urbano_music</th>\n",
              "      <th>/wiki/Video_game</th>\n",
              "      <th>/wiki/Wagnerian_rock</th>\n",
              "      <th>/wiki/West_coast_hip_hop</th>\n",
              "      <th>/wiki/Western_swing</th>\n",
              "      <th>/wiki/Working_on_Dying#Tread_style</th>\n",
              "      <th>/wiki/World_music</th>\n",
              "      <th>/wiki/Worldbeat</th>\n",
              "      <th>/wiki/Worship_music</th>\n",
              "      <th>NA</th>\n",
              "    </tr>\n",
              "  </thead>\n",
              "  <tbody>\n",
              "    <tr>\n",
              "      <th>0</th>\n",
              "      <td>1992</td>\n",
              "      <td>Boyz II Men</td>\n",
              "      <td>/wiki/Boyz_II_Men</td>\n",
              "      <td>End of the Road (Boyz II Men song)</td>\n",
              "      <td>/wiki/End_of_the_Road_(Boyz_II_Men_song)</td>\n",
              "      <td>1</td>\n",
              "      <td>['/wiki/Contemporary_R%26B_music', '/wiki/New_...</td>\n",
              "      <td>&lt;NA&gt;</td>\n",
              "      <td>1987–present</td>\n",
              "      <td>0</td>\n",
              "      <td>0</td>\n",
              "      <td>0</td>\n",
              "      <td>0</td>\n",
              "      <td>0</td>\n",
              "      <td>0</td>\n",
              "      <td>0</td>\n",
              "      <td>0</td>\n",
              "      <td>0</td>\n",
              "      <td>0</td>\n",
              "      <td>0</td>\n",
              "      <td>0</td>\n",
              "      <td>0</td>\n",
              "      <td>0</td>\n",
              "      <td>0</td>\n",
              "      <td>0</td>\n",
              "      <td>0</td>\n",
              "      <td>0</td>\n",
              "      <td>0</td>\n",
              "      <td>0</td>\n",
              "      <td>0</td>\n",
              "      <td>0</td>\n",
              "      <td>0</td>\n",
              "      <td>0</td>\n",
              "      <td>0</td>\n",
              "      <td>0</td>\n",
              "      <td>0</td>\n",
              "      <td>0</td>\n",
              "      <td>0</td>\n",
              "      <td>0</td>\n",
              "      <td>0</td>\n",
              "      <td>...</td>\n",
              "      <td>0</td>\n",
              "      <td>0</td>\n",
              "      <td>0</td>\n",
              "      <td>0</td>\n",
              "      <td>0</td>\n",
              "      <td>0</td>\n",
              "      <td>0</td>\n",
              "      <td>0</td>\n",
              "      <td>0</td>\n",
              "      <td>0</td>\n",
              "      <td>0</td>\n",
              "      <td>0</td>\n",
              "      <td>0</td>\n",
              "      <td>0</td>\n",
              "      <td>0</td>\n",
              "      <td>0</td>\n",
              "      <td>0</td>\n",
              "      <td>0</td>\n",
              "      <td>0</td>\n",
              "      <td>0</td>\n",
              "      <td>0</td>\n",
              "      <td>0</td>\n",
              "      <td>0</td>\n",
              "      <td>0</td>\n",
              "      <td>0</td>\n",
              "      <td>0</td>\n",
              "      <td>0</td>\n",
              "      <td>0</td>\n",
              "      <td>0</td>\n",
              "      <td>0</td>\n",
              "      <td>0</td>\n",
              "      <td>0</td>\n",
              "      <td>0</td>\n",
              "      <td>0</td>\n",
              "      <td>0</td>\n",
              "      <td>0</td>\n",
              "      <td>0</td>\n",
              "      <td>0</td>\n",
              "      <td>0</td>\n",
              "      <td>0</td>\n",
              "    </tr>\n",
              "    <tr>\n",
              "      <th>1</th>\n",
              "      <td>1992</td>\n",
              "      <td>Boyz II Men</td>\n",
              "      <td>/wiki/Boyz_II_Men</td>\n",
              "      <td>It's So Hard to Say Goodbye to Yesterday</td>\n",
              "      <td>/wiki/It%27s_So_Hard_to_Say_Goodbye_to_Yesterday</td>\n",
              "      <td>37</td>\n",
              "      <td>['/wiki/Contemporary_R%26B_music', '/wiki/New_...</td>\n",
              "      <td>&lt;NA&gt;</td>\n",
              "      <td>1987–present</td>\n",
              "      <td>0</td>\n",
              "      <td>0</td>\n",
              "      <td>0</td>\n",
              "      <td>0</td>\n",
              "      <td>0</td>\n",
              "      <td>0</td>\n",
              "      <td>0</td>\n",
              "      <td>0</td>\n",
              "      <td>0</td>\n",
              "      <td>0</td>\n",
              "      <td>0</td>\n",
              "      <td>0</td>\n",
              "      <td>0</td>\n",
              "      <td>0</td>\n",
              "      <td>0</td>\n",
              "      <td>0</td>\n",
              "      <td>0</td>\n",
              "      <td>0</td>\n",
              "      <td>0</td>\n",
              "      <td>0</td>\n",
              "      <td>0</td>\n",
              "      <td>0</td>\n",
              "      <td>0</td>\n",
              "      <td>0</td>\n",
              "      <td>0</td>\n",
              "      <td>0</td>\n",
              "      <td>0</td>\n",
              "      <td>0</td>\n",
              "      <td>0</td>\n",
              "      <td>0</td>\n",
              "      <td>0</td>\n",
              "      <td>...</td>\n",
              "      <td>0</td>\n",
              "      <td>0</td>\n",
              "      <td>0</td>\n",
              "      <td>0</td>\n",
              "      <td>0</td>\n",
              "      <td>0</td>\n",
              "      <td>0</td>\n",
              "      <td>0</td>\n",
              "      <td>0</td>\n",
              "      <td>0</td>\n",
              "      <td>0</td>\n",
              "      <td>0</td>\n",
              "      <td>0</td>\n",
              "      <td>0</td>\n",
              "      <td>0</td>\n",
              "      <td>0</td>\n",
              "      <td>0</td>\n",
              "      <td>0</td>\n",
              "      <td>0</td>\n",
              "      <td>0</td>\n",
              "      <td>0</td>\n",
              "      <td>0</td>\n",
              "      <td>0</td>\n",
              "      <td>0</td>\n",
              "      <td>0</td>\n",
              "      <td>0</td>\n",
              "      <td>0</td>\n",
              "      <td>0</td>\n",
              "      <td>0</td>\n",
              "      <td>0</td>\n",
              "      <td>0</td>\n",
              "      <td>0</td>\n",
              "      <td>0</td>\n",
              "      <td>0</td>\n",
              "      <td>0</td>\n",
              "      <td>0</td>\n",
              "      <td>0</td>\n",
              "      <td>0</td>\n",
              "      <td>0</td>\n",
              "      <td>0</td>\n",
              "    </tr>\n",
              "    <tr>\n",
              "      <th>2</th>\n",
              "      <td>1992</td>\n",
              "      <td>Boyz II Men</td>\n",
              "      <td>/wiki/Boyz_II_Men</td>\n",
              "      <td>Uhh Ahh</td>\n",
              "      <td>/wiki/Uhh_Ahh</td>\n",
              "      <td>84</td>\n",
              "      <td>['/wiki/Contemporary_R%26B_music', '/wiki/New_...</td>\n",
              "      <td>&lt;NA&gt;</td>\n",
              "      <td>1987–present</td>\n",
              "      <td>0</td>\n",
              "      <td>0</td>\n",
              "      <td>0</td>\n",
              "      <td>0</td>\n",
              "      <td>0</td>\n",
              "      <td>0</td>\n",
              "      <td>0</td>\n",
              "      <td>0</td>\n",
              "      <td>0</td>\n",
              "      <td>0</td>\n",
              "      <td>0</td>\n",
              "      <td>0</td>\n",
              "      <td>0</td>\n",
              "      <td>0</td>\n",
              "      <td>0</td>\n",
              "      <td>0</td>\n",
              "      <td>0</td>\n",
              "      <td>0</td>\n",
              "      <td>0</td>\n",
              "      <td>0</td>\n",
              "      <td>0</td>\n",
              "      <td>0</td>\n",
              "      <td>0</td>\n",
              "      <td>0</td>\n",
              "      <td>0</td>\n",
              "      <td>0</td>\n",
              "      <td>0</td>\n",
              "      <td>0</td>\n",
              "      <td>0</td>\n",
              "      <td>0</td>\n",
              "      <td>0</td>\n",
              "      <td>...</td>\n",
              "      <td>0</td>\n",
              "      <td>0</td>\n",
              "      <td>0</td>\n",
              "      <td>0</td>\n",
              "      <td>0</td>\n",
              "      <td>0</td>\n",
              "      <td>0</td>\n",
              "      <td>0</td>\n",
              "      <td>0</td>\n",
              "      <td>0</td>\n",
              "      <td>0</td>\n",
              "      <td>0</td>\n",
              "      <td>0</td>\n",
              "      <td>0</td>\n",
              "      <td>0</td>\n",
              "      <td>0</td>\n",
              "      <td>0</td>\n",
              "      <td>0</td>\n",
              "      <td>0</td>\n",
              "      <td>0</td>\n",
              "      <td>0</td>\n",
              "      <td>0</td>\n",
              "      <td>0</td>\n",
              "      <td>0</td>\n",
              "      <td>0</td>\n",
              "      <td>0</td>\n",
              "      <td>0</td>\n",
              "      <td>0</td>\n",
              "      <td>0</td>\n",
              "      <td>0</td>\n",
              "      <td>0</td>\n",
              "      <td>0</td>\n",
              "      <td>0</td>\n",
              "      <td>0</td>\n",
              "      <td>0</td>\n",
              "      <td>0</td>\n",
              "      <td>0</td>\n",
              "      <td>0</td>\n",
              "      <td>0</td>\n",
              "      <td>0</td>\n",
              "    </tr>\n",
              "    <tr>\n",
              "      <th>3</th>\n",
              "      <td>1993</td>\n",
              "      <td>Boyz II Men</td>\n",
              "      <td>/wiki/Boyz_II_Men</td>\n",
              "      <td>In the Still of the Night (1956 song)</td>\n",
              "      <td>/wiki/In_the_Still_of_the_Night_(1956_song)#Bo...</td>\n",
              "      <td>12</td>\n",
              "      <td>['/wiki/Contemporary_R%26B_music', '/wiki/New_...</td>\n",
              "      <td>&lt;NA&gt;</td>\n",
              "      <td>1987–present</td>\n",
              "      <td>0</td>\n",
              "      <td>0</td>\n",
              "      <td>0</td>\n",
              "      <td>0</td>\n",
              "      <td>0</td>\n",
              "      <td>0</td>\n",
              "      <td>0</td>\n",
              "      <td>0</td>\n",
              "      <td>0</td>\n",
              "      <td>0</td>\n",
              "      <td>0</td>\n",
              "      <td>0</td>\n",
              "      <td>0</td>\n",
              "      <td>0</td>\n",
              "      <td>0</td>\n",
              "      <td>0</td>\n",
              "      <td>0</td>\n",
              "      <td>0</td>\n",
              "      <td>0</td>\n",
              "      <td>0</td>\n",
              "      <td>0</td>\n",
              "      <td>0</td>\n",
              "      <td>0</td>\n",
              "      <td>0</td>\n",
              "      <td>0</td>\n",
              "      <td>0</td>\n",
              "      <td>0</td>\n",
              "      <td>0</td>\n",
              "      <td>0</td>\n",
              "      <td>0</td>\n",
              "      <td>0</td>\n",
              "      <td>...</td>\n",
              "      <td>0</td>\n",
              "      <td>0</td>\n",
              "      <td>0</td>\n",
              "      <td>0</td>\n",
              "      <td>0</td>\n",
              "      <td>0</td>\n",
              "      <td>0</td>\n",
              "      <td>0</td>\n",
              "      <td>0</td>\n",
              "      <td>0</td>\n",
              "      <td>0</td>\n",
              "      <td>0</td>\n",
              "      <td>0</td>\n",
              "      <td>0</td>\n",
              "      <td>0</td>\n",
              "      <td>0</td>\n",
              "      <td>0</td>\n",
              "      <td>0</td>\n",
              "      <td>0</td>\n",
              "      <td>0</td>\n",
              "      <td>0</td>\n",
              "      <td>0</td>\n",
              "      <td>0</td>\n",
              "      <td>0</td>\n",
              "      <td>0</td>\n",
              "      <td>0</td>\n",
              "      <td>0</td>\n",
              "      <td>0</td>\n",
              "      <td>0</td>\n",
              "      <td>0</td>\n",
              "      <td>0</td>\n",
              "      <td>0</td>\n",
              "      <td>0</td>\n",
              "      <td>0</td>\n",
              "      <td>0</td>\n",
              "      <td>0</td>\n",
              "      <td>0</td>\n",
              "      <td>0</td>\n",
              "      <td>0</td>\n",
              "      <td>0</td>\n",
              "    </tr>\n",
              "    <tr>\n",
              "      <th>4</th>\n",
              "      <td>1994</td>\n",
              "      <td>Boyz II Men</td>\n",
              "      <td>/wiki/Boyz_II_Men</td>\n",
              "      <td>I'll Make Love to You</td>\n",
              "      <td>/wiki/I%27ll_Make_Love_to_You</td>\n",
              "      <td>3</td>\n",
              "      <td>['/wiki/Contemporary_R%26B_music', '/wiki/New_...</td>\n",
              "      <td>&lt;NA&gt;</td>\n",
              "      <td>1987–present</td>\n",
              "      <td>0</td>\n",
              "      <td>0</td>\n",
              "      <td>0</td>\n",
              "      <td>0</td>\n",
              "      <td>0</td>\n",
              "      <td>0</td>\n",
              "      <td>0</td>\n",
              "      <td>0</td>\n",
              "      <td>0</td>\n",
              "      <td>0</td>\n",
              "      <td>0</td>\n",
              "      <td>0</td>\n",
              "      <td>0</td>\n",
              "      <td>0</td>\n",
              "      <td>0</td>\n",
              "      <td>0</td>\n",
              "      <td>0</td>\n",
              "      <td>0</td>\n",
              "      <td>0</td>\n",
              "      <td>0</td>\n",
              "      <td>0</td>\n",
              "      <td>0</td>\n",
              "      <td>0</td>\n",
              "      <td>0</td>\n",
              "      <td>0</td>\n",
              "      <td>0</td>\n",
              "      <td>0</td>\n",
              "      <td>0</td>\n",
              "      <td>0</td>\n",
              "      <td>0</td>\n",
              "      <td>0</td>\n",
              "      <td>...</td>\n",
              "      <td>0</td>\n",
              "      <td>0</td>\n",
              "      <td>0</td>\n",
              "      <td>0</td>\n",
              "      <td>0</td>\n",
              "      <td>0</td>\n",
              "      <td>0</td>\n",
              "      <td>0</td>\n",
              "      <td>0</td>\n",
              "      <td>0</td>\n",
              "      <td>0</td>\n",
              "      <td>0</td>\n",
              "      <td>0</td>\n",
              "      <td>0</td>\n",
              "      <td>0</td>\n",
              "      <td>0</td>\n",
              "      <td>0</td>\n",
              "      <td>0</td>\n",
              "      <td>0</td>\n",
              "      <td>0</td>\n",
              "      <td>0</td>\n",
              "      <td>0</td>\n",
              "      <td>0</td>\n",
              "      <td>0</td>\n",
              "      <td>0</td>\n",
              "      <td>0</td>\n",
              "      <td>0</td>\n",
              "      <td>0</td>\n",
              "      <td>0</td>\n",
              "      <td>0</td>\n",
              "      <td>0</td>\n",
              "      <td>0</td>\n",
              "      <td>0</td>\n",
              "      <td>0</td>\n",
              "      <td>0</td>\n",
              "      <td>0</td>\n",
              "      <td>0</td>\n",
              "      <td>0</td>\n",
              "      <td>0</td>\n",
              "      <td>0</td>\n",
              "    </tr>\n",
              "  </tbody>\n",
              "</table>\n",
              "<p>5 rows × 336 columns</p>\n",
              "</div>"
            ],
            "text/plain": [
              "   year  band_singer  ... /wiki/Worship_music NA\n",
              "0  1992  Boyz II Men  ...                   0  0\n",
              "1  1992  Boyz II Men  ...                   0  0\n",
              "2  1992  Boyz II Men  ...                   0  0\n",
              "3  1993  Boyz II Men  ...                   0  0\n",
              "4  1994  Boyz II Men  ...                   0  0\n",
              "\n",
              "[5 rows x 336 columns]"
            ]
          },
          "metadata": {
            "tags": []
          },
          "execution_count": 40
        }
      ]
    }
  ]
}